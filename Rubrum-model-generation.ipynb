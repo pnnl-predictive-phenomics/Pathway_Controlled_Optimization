{
 "cells": [
  {
   "cell_type": "markdown",
   "metadata": {},
   "source": [
    "# Introduction\n",
    "This notebook constructs a simplified metabolic model of Rhodospirillum rubrum \n"
   ]
  },
  {
   "cell_type": "code",
   "execution_count": 28,
   "metadata": {},
   "outputs": [
    {
     "name": "stderr",
     "output_type": "stream",
     "text": [
      "/var/folders/45/hnmrvf5d6wdf1h8m7d4cn5s4hp2pl3/T/ipykernel_26744/1931947951.py:9: DeprecationWarning: Importing display from IPython.core.display is deprecated since IPython 7.14, please import from IPython display\n",
      "  from IPython.core.display import display\n"
     ]
    }
   ],
   "source": [
    "import numpy as np\n",
    "import pandas as pd\n",
    "import subprocess\n",
    "import re\n",
    "import os\n",
    "import sys\n",
    "import cobra\n",
    "from importlib import reload\n",
    "from IPython.core.display import display\n",
    "pd.set_option('display.max_columns', None,'display.max_rows', None)\n",
    "pd.set_option('display.max_colwidth',None)\n",
    "pd.options.mode.chained_assignment = None\n",
    "\n",
    "\n",
    "sys.path.append('../')\n",
    "import utils as utils\n",
    "\n",
    "\n",
    "## Set standard Parameters\n",
    "T = 298.15\n",
    "R = 8.3144598e-03\n",
    "RT = R*T\n",
    "N_avogadro = 6.022140857e+23\n",
    "VolCell = 1.0e-15\n",
    "Concentration2Count = N_avogadro * VolCell\n",
    "concentration_increment = 1/(N_avogadro*VolCell)\n",
    "\n",
    "\n",
    "# Set path to the directory that contains the model files\n",
    "mf_dir = 'model_files/'"
   ]
  },
  {
   "cell_type": "markdown",
   "metadata": {},
   "source": [
    "### Create a stoichiometric matrix"
   ]
  },
  {
   "cell_type": "code",
   "execution_count": 29,
   "metadata": {},
   "outputs": [],
   "source": [
    "left ='LEFT'\n",
    "right = 'RIGHT'\n",
    "left_compartment = 'LEFT_COMPARTMENT'\n",
    "right_compartment = 'RIGHT_COMPARTMENT'\n",
    "enzyme_level = 'ENZYME_LEVEL'\n",
    "deltag0 = 'DGZERO'\n",
    "deltag0_sigma = 'DGZERO StdDev'\n",
    "same_compartment = 'Same Compartment?'\n",
    "full_rxn = 'Full Rxn'\n",
    "rxn = 'REACTION'\n",
    "flux = 'Flux'\n",
    "\n",
    "reactions = pd.DataFrame(index=[],columns=[left, right, left_compartment, right_compartment, enzyme_level, deltag0, deltag0_sigma, same_compartment,full_rxn])\n",
    "reactions.index.name='REACTION'\n",
    "S_matrix = pd.DataFrame(index=[],columns=[enzyme_level])\n",
    "S_matrix.index.name='REACTION'"
   ]
  },
  {
   "cell_type": "markdown",
   "metadata": {},
   "source": [
    "### Read In Pathway Files"
   ]
  },
  {
   "cell_type": "code",
   "execution_count": 30,
   "metadata": {},
   "outputs": [],
   "source": [
    "rxn_file = 'Rpal_Glycolysis-CBB-PPP-TCA-GlyoxylateCycle-Ethanol-Methionine-SAMcycles-SerCys.txt'\n",
    "reactions = pd.DataFrame(index=[],columns=[left, right, left_compartment, right_compartment, enzyme_level, deltag0, deltag0_sigma, same_compartment,full_rxn])\n",
    "reactions.index.name='REACTION'\n",
    "S_matrix = pd.DataFrame(index=[],columns=[enzyme_level])\n",
    "S_matrix.index.name='REACTION'\n",
    "\n",
    "[reactions, S_matrix] = utils.ReadRxnFrameFile(mf_dir + rxn_file,reactions, S_matrix)"
   ]
  },
  {
   "cell_type": "markdown",
   "metadata": {},
   "source": [
    "#### Reductive TCA Cycle, Glyoxylate Shunt and Fe-S Pyruvate Dehydrogenase"
   ]
  },
  {
   "cell_type": "code",
   "execution_count": 31,
   "metadata": {},
   "outputs": [
    {
     "name": "stderr",
     "output_type": "stream",
     "text": [
      "ERROR:cobra.io.sbml:No objective coefficients in model. Unclear what should be optimized\n"
     ]
    }
   ],
   "source": [
    "import logging\n",
    "\n",
    "logging.getLogger(\"cobra\").setLevel(logging.ERROR)\n",
    "\n",
    "\n",
    "rxn_file = 'reductive_TCAcycle_glyoxylate_shunt_FeS_PDH.sbml'\n",
    "[reactions, S_matrix] = utils.ReadSBMLFile(mf_dir + rxn_file,reactions, S_matrix)"
   ]
  },
  {
   "cell_type": "code",
   "execution_count": 32,
   "metadata": {},
   "outputs": [],
   "source": [
    "rxn_file = 'superpathway_branched_chain_aa.txt'\n",
    "[reactions, S_matrix] = utils.ReadRxnFrameFile(mf_dir + rxn_file,reactions, S_matrix)"
   ]
  },
  {
   "cell_type": "code",
   "execution_count": 33,
   "metadata": {},
   "outputs": [],
   "source": [
    "rxn_file = 'Gly-Trp-Tyr-His--Lys-Thr-Chorismate-PRPP.txt'\n",
    "[reactions, S_matrix] = utils.ReadRxnFrameFile(mf_dir + rxn_file,reactions, S_matrix)"
   ]
  },
  {
   "cell_type": "code",
   "execution_count": 34,
   "metadata": {},
   "outputs": [],
   "source": [
    "rxn_file = 'rubrum_phenylalanine_synthesis.txt'\n",
    "[reactions, S_matrix] = utils.ReadRxnFrameFile(mf_dir + rxn_file,reactions, S_matrix)"
   ]
  },
  {
   "cell_type": "code",
   "execution_count": 35,
   "metadata": {},
   "outputs": [],
   "source": [
    "rxn_file = 'alanine_biosynthesis.txt'\n",
    "[reactions, S_matrix] = utils.ReadRxnFrameFile(mf_dir + rxn_file,reactions, S_matrix)"
   ]
  },
  {
   "cell_type": "code",
   "execution_count": 36,
   "metadata": {},
   "outputs": [],
   "source": [
    "rxn_file = 'asparagine_synthesis.txt'\n",
    "[reactions, S_matrix] = utils.ReadRxnFrameFile(mf_dir + rxn_file,reactions, S_matrix)"
   ]
  },
  {
   "cell_type": "markdown",
   "metadata": {},
   "source": [
    "#### Arginine synthesis"
   ]
  },
  {
   "cell_type": "code",
   "execution_count": 37,
   "metadata": {},
   "outputs": [
    {
     "name": "stderr",
     "output_type": "stream",
     "text": [
      "ERROR:cobra.io.sbml:No objective coefficients in model. Unclear what should be optimized\n",
      "ERROR:cobra.io.sbml:No objective coefficients in model. Unclear what should be optimized\n",
      "ERROR:cobra.io.sbml:No objective coefficients in model. Unclear what should be optimized\n"
     ]
    }
   ],
   "source": [
    "rxn_file = 'arginine_biosynthesisII_rubrum.sbml'\n",
    "[reactions, S_matrix] = utils.ReadSBMLFile(mf_dir + rxn_file,reactions, S_matrix)\n",
    "rxn_file = 'carbonic_anhydrase.sbml'\n",
    "[reactions, S_matrix] = utils.ReadSBMLFile(mf_dir + rxn_file,reactions, S_matrix)\n",
    "rxn_file = 'proline_synthesis_rubrum.sbml'\n",
    "[reactions, S_matrix] = utils.ReadSBMLFile(mf_dir + rxn_file,reactions, S_matrix)"
   ]
  },
  {
   "cell_type": "code",
   "execution_count": 38,
   "metadata": {},
   "outputs": [],
   "source": [
    "rxn_file = 'sulfate_assimilation_rpal.txt'\n",
    "[reactions, S_matrix] = utils.ReadRxnFrameFile(mf_dir + rxn_file,reactions, S_matrix)"
   ]
  },
  {
   "cell_type": "markdown",
   "metadata": {},
   "source": [
    "#### Malic Reactions and PRPP synthesis"
   ]
  },
  {
   "cell_type": "code",
   "execution_count": 39,
   "metadata": {},
   "outputs": [
    {
     "name": "stderr",
     "output_type": "stream",
     "text": [
      "ERROR:cobra.io.sbml:No objective coefficients in model. Unclear what should be optimized\n",
      "ERROR:cobra.io.sbml:No objective coefficients in model. Unclear what should be optimized\n"
     ]
    }
   ],
   "source": [
    "rxn_file = 'malic_rxns_rubrum.sbml'\n",
    "[reactions, S_matrix] = utils.ReadSBMLFile(mf_dir + rxn_file,reactions, S_matrix)\n",
    "rxn_file = 'PRPP_synthesis_rubrum.sbml'\n",
    "[reactions, S_matrix] = utils.ReadSBMLFile(mf_dir + rxn_file,reactions, S_matrix)"
   ]
  },
  {
   "cell_type": "markdown",
   "metadata": {},
   "source": [
    "#### Purine and Pyrimidine Synthesis"
   ]
  },
  {
   "cell_type": "code",
   "execution_count": 40,
   "metadata": {
    "scrolled": true
   },
   "outputs": [
    {
     "name": "stderr",
     "output_type": "stream",
     "text": [
      "ERROR:cobra.io.sbml:No objective coefficients in model. Unclear what should be optimized\n",
      "ERROR:cobra.io.sbml:No objective coefficients in model. Unclear what should be optimized\n"
     ]
    }
   ],
   "source": [
    "rxn_file = 'pyrimidine_biosynthesis_rubrum.sbml'\n",
    "[reactions, S_matrix] = utils.ReadSBMLFile(mf_dir + rxn_file,reactions, S_matrix)\n",
    "rxn_file = 'purine_biosynthesis_rubrum.sbml'\n",
    "[reactions, S_matrix] = utils.ReadSBMLFile(mf_dir + rxn_file,reactions, S_matrix)"
   ]
  },
  {
   "cell_type": "markdown",
   "metadata": {},
   "source": [
    "### Turn some reaction pathways off"
   ]
  },
  {
   "cell_type": "code",
   "execution_count": 41,
   "metadata": {},
   "outputs": [
    {
     "data": {
      "text/plain": [
       "(174, 195)"
      ]
     },
     "metadata": {},
     "output_type": "display_data"
    }
   ],
   "source": [
    "# Glucose 6 phosphate => fructose-6-phosphate rxn:\n",
    "reactions.loc['PGLUCISOM-RXN', enzyme_level] = np.float64(0.0);\n",
    "S_matrix.loc['PGLUCISOM-RXN', enzyme_level] = np.float64(0.0);\n",
    "\n",
    "# phophofructokinase reaction        \n",
    "reactions.loc['6PFRUCTPHOS-RXN', enzyme_level] = np.float64(0.0);\n",
    "S_matrix.loc['6PFRUCTPHOS-RXN', enzyme_level] = np.float64(0.0);\n",
    "\n",
    "# Rxn 3-phospho-D-glyceroyl-phosphate + NADH + H+ = D-glyceraldehyde 3-phosphate + NAD+ + phosphate\n",
    "reactions.loc['GAPOXNPHOSPHN-RXN', enzyme_level] = np.float64(0.0);\n",
    "S_matrix.loc['GAPOXNPHOSPHN-RXN', enzyme_level] = np.float64(0.0);\n",
    "\n",
    "# Transaldolase reaction\n",
    "reactions.loc['TRANSALDOL-RXN', enzyme_level] = np.float64(0.0);\n",
    "S_matrix.loc['TRANSALDOL-RXN', enzyme_level] = np.float64(0.0);\n",
    "\n",
    "# Drop Generic Reaction RXN-12912\n",
    "reactions.drop('RXN-12912',axis = 0,inplace=True)\n",
    "S_matrix.drop('RXN-12912',axis = 0,inplace=True)\n",
    "\n",
    "# Phosphoglycerate isomerase reaction\n",
    "reactions.loc['RXN-15513', enzyme_level] = np.float64(0.0);\n",
    "S_matrix.loc['RXN-15513', enzyme_level] = np.float64(0.0);\n",
    "reactions.loc['MALATE-DEH-RXN', enzyme_level] = np.float64(0.0);\n",
    "S_matrix.loc['MALATE-DEH-RXN', enzyme_level] = np.float64(0.0);\n",
    "reactions.loc['ISOCIT-CLEAV-RXN', enzyme_level] = np.float64(0.0);\n",
    "S_matrix.loc['ISOCIT-CLEAV-RXN', enzyme_level] = np.float64(0.0);\n",
    "\n",
    "\n",
    "\n",
    "# Oxidative  TCA cycle reactions\n",
    "reactions.loc['PDH', enzyme_level] = np.float64(0.0);\n",
    "S_matrix.loc['PDH', enzyme_level] = np.float64(0.0);\n",
    "reactions.loc['2OXOGLUTARATEDEH-RXN', enzyme_level] = np.float64(0.0); #differs\n",
    "S_matrix.loc['2OXOGLUTARATEDEH-RXN', enzyme_level] = np.float64(0.0); #differs\n",
    "\n",
    "\n",
    "S_matrix.fillna(0,inplace=True)\n",
    "S_active = S_matrix[S_matrix[enzyme_level] > 0.0]\n",
    "display(S_active.shape)\n",
    "active_reactions = reactions[reactions[enzyme_level] > 0.0]\n",
    "del S_active[enzyme_level]\n",
    "\n",
    "# Delete any columns/metabolites that have all zeros in the S matrix:\n",
    "S_active = S_active.loc[:, (S_active != 0).any(axis=0)]\n",
    "#display(S_active)\n",
    "reactions[left_compartment] = 'CYTOPLASM'\n",
    "reactions[right_compartment] = 'CYTOPLASM'\n",
    "#display(reactions)"
   ]
  },
  {
   "cell_type": "markdown",
   "metadata": {},
   "source": [
    "### Ethylene Pathway"
   ]
  },
  {
   "cell_type": "code",
   "execution_count": 42,
   "metadata": {},
   "outputs": [],
   "source": [
    "rxn_file = 'ethylene_pwy.dat'\n",
    "\n",
    "[reactions, S_active] = utils.ReadRxnFile(mf_dir + rxn_file,reactions, S_active)\n",
    "reactions[left_compartment] = 'CYTOPLASM'\n",
    "reactions[right_compartment] = 'CYTOPLASM'\n",
    "reactions[same_compartment] = 1.0\n",
    "S_active.fillna(0,inplace=True)\n",
    "del S_active[enzyme_level]\n",
    "#display(reactions)"
   ]
  },
  {
   "cell_type": "code",
   "execution_count": 43,
   "metadata": {},
   "outputs": [],
   "source": [
    "reactions.loc['SAM Hydrolase::ADENOSYLMETHIONINE-HYDROLASE-RXN',deltag0] = np.array([-8.11])[0]\n",
    "reactions.loc['MTA nucleosidase::METHYLTHIOADENOSINE-NUCLEOSIDASE-RXN',deltag0] = np.array([-8.11])[0]\n",
    "reactions.loc['MTNA::5.3.1.23-RXN',deltag0] = np.array([-8.11])[0]\n",
    "reactions.loc['MT-Ribulose lyase::MT-Ribulose lyase',deltag0] = np.array([-8.11])[0]\n",
    "reactions.loc['MT-acetate reductase::MT-acetate reductase',deltag0] = np.array([-8.11])[0]\n",
    "reactions.loc['MT-ethanol dehydrogenase::MT-ethanol dehydrogenase',deltag0] = np.array([-8.11])[0]\n",
    "reactions.loc['O-ACETYLHOMOSERINE-THIOL-LYASE::O-ACETYLHOMOSERINE-THIOL-LYASE-RXN',deltag0] = np.array([-8.11])[0]"
   ]
  },
  {
   "cell_type": "markdown",
   "metadata": {},
   "source": [
    "## Calculate Standard Free Energies of Reaction "
   ]
  },
  {
   "cell_type": "markdown",
   "metadata": {},
   "source": [
    "Some reactions are set manually because they are not found in eQuilibrator, this may be resolved by future releases"
   ]
  },
  {
   "cell_type": "code",
   "execution_count": 44,
   "metadata": {},
   "outputs": [],
   "source": [
    "reactions.loc['RXN-15121',deltag0] = np.array([-17.0])[0]\n",
    "reactions.loc['RXN-15123',deltag0] = np.array([-17.0])[0]"
   ]
  },
  {
   "cell_type": "markdown",
   "metadata": {},
   "source": [
    "### Overall Thermodynamics of SAM Cycles I and II\n",
    "\n",
    "ATP consumption provides the carbon for driving SAM cycles.\n",
    "\n",
    "**SAM cycle I overall reaction:**\n",
    "$$\n",
    "\\text{S-adenosyl-L-methionine + H2O}  \\longrightarrow  \n",
    "\n",
    "\\text{adenine + (4S)-4,5-dihydroxypentan-2,3-dione + L-methionine} \\\\  \n",
    "\n",
    "\\Delta G^{\\circ} = -16.57 \\pm 100,000 \\text{kJ/mol}\n",
    "\n",
    "$$\n",
    "\n",
    "**SAM cycle II overall reaction:**\n",
    "$$\n",
    "\\text{S-adenosyl-L-methionine + H2O}  \\longrightarrow \n",
    "\n",
    "\\text{adeninosine + L-methionine} \\\\ \n",
    "\n",
    "\\Delta G^{\\circ} = +45.14 \\pm 100,000 \\text{kJ/mol}\n",
    "$$\n",
    "\n",
    "The free energy change for the last reaction can be understood in terms of component reactions,\n",
    "\n",
    "$$\n",
    "\\text{S-adenosyl-L-methionine + phosphate + diphosphate} \\longrightarrow \n",
    "\\text{L-Methionine + ATP + H2O}\\\\ \n",
    "\\Delta G^{\\circ} = +93.96 \\pm 100,000 \\text{kJ/mol} \\\\\n",
    "\\text{ADP + H2O}  \\longrightarrow \n",
    "\\text{adeninosine + diphosphate} \\\\ \n",
    " \\Delta G^{\\circ} = -22.7 \\pm 2.9 \\text{kJ/mol} \\\\\n",
    "\\text{ATP + H2O}  \\longrightarrow \n",
    "\\text{ADP + phosphate} \\\\ \n",
    " \\Delta G^{\\circ} = -26.1 \\pm 0.6 \\text{kJ/mol} \\\\\n",
    "\n",
    "\\text{S-adenosyl-L-methionine + H2O} \\longrightarrow  \\text{L-methionine + adenosine} \\\\\n",
    " \\Delta G_{total}^{\\circ} = +45.16\n",
    "$$\n"
   ]
  },
  {
   "cell_type": "markdown",
   "metadata": {},
   "source": [
    "### Overall Thermodynamics of Methylthio-Alkane Reductase/Ethylene Synthesis Pathway\n",
    "The standard free energies of the specific reactions of this pathway are not available. But we can calculate the overall standard free energy change by breaking the overall reaction down into subreactions that can be calculated.\n",
    "Also, we can't judge whether this pathway is feasible until correct free energies are included.\n",
    "\n",
    "\n",
    "The overall reaction that combines the seven reactions is,\n",
    "\n",
    "$$\n",
    "\\text{S-adenosyl-L-methionine +  orthophosphate + NADH} \\\\\n",
    "\\text{ + 2 Fd-red + O-acetyl-L-homoserine}  \\longrightarrow \\\\\n",
    "\\text{L-homoserine + adenine + NAD+ + ethylene  + H2 + 2 Fd-ox + L-methionine + acetate +  glycerone phoshpate} \\\\ \n",
    "\\Delta G_{overall} = -56.8 kJ/mol\n",
    "$$\n",
    "\n",
    "To calculate the overall free energy change, this reaction was broken down into five smaller reactions:\n",
    "$$\n",
    "\\text{2 Ferredoxin-reduced + NAD+}  \\longrightarrow  2 \\text{Ferredoxin-oxidized + NADH} \\\\\n",
    " \\Delta G^{\\circ} = 2*( -8.5 kJ/mol) ~ eQuilibrator \\\\\n",
    "\\text{O-acetyl-L-homoserine + H2O}  \\longrightarrow  \\text{L-homoserine + acetate}  \\\\\n",
    "\\Delta G^{\\circ} = -9.5 kJ/mol ~ eQuilibrator\\\\\n",
    "\\text{Ribose-5-phosphate + 2 NADH}  \\longrightarrow  \\text{Ethylene + Glycerone phosphate + 2 NAD + 2 H2O} \\\\\n",
    "\\Delta G^{\\circ} = -58.9 kJ/mol ~  eQuilibrator \\\\\n",
    "\\text{Ribose + orthosphosphate}  \\longrightarrow  \\text{ribose-5-phosphate + H2O} \\\\\n",
    " \\Delta G^{\\circ} = 1.4 kJ/mol ~ eQuilibrator \\\\\n",
    "\\text{S-adenosyl-l-methionine + 2 H2O}  \\longrightarrow \\text{adenine + ribose + methionine}  \\Delta G^{\\circ} = 39.8 kJ/mol \\text{(see below)} \\\\\n",
    " \\Delta G_{overall} = -56.8 kJ/mol\n",
    "$$\n",
    "\n",
    "The last reaction,\n",
    "$$\n",
    "\\text{S-adenosyl-l-methionine + 2 H2O}  \\longrightarrow  \\text{adenine + ribose + methionine} \n",
    "$$\n",
    "\n",
    "was broken down further because there is no eQuilibrator data:\n",
    "\n",
    "$$\n",
    "\\text{Adenosine + H2O}  \\longrightarrow  \\text{adenine + ribose}   \\\\\n",
    "\\Delta G^{\\circ} = -4.9 kJ/mol  \\\\\n",
    "\\text{S-adenosyl-L-methionine + H2O}  \\longrightarrow  \\text{adenosine + methionine} \\\\\n",
    "$$\n",
    "\n",
    "The last reaction is assumed to have the same $\\Delta G^{\\circ}$ as:\n",
    "$$\n",
    "\\text{S-Ribosyl-L-homocysteine + H2O}  \\longrightarrow  \\text{Homocysteine + Ribose} \\\\\n",
    " \\Delta G^{\\circ} = 44.7 kJ/mol  \\\\\n",
    " \\text{total } \\Delta G^{\\circ} = 39.8 kJ/mol\n",
    "$$\n",
    "\n",
    "\n",
    "Until we get standard free energy changes for individual reactions, we will assume that each reaction has a free energy change of \n",
    "$\\Delta G_{i}^{\\circ}=\\Delta G_{overall}//7 = -8.11 kJ/mol$"
   ]
  },
  {
   "cell_type": "code",
   "execution_count": 45,
   "metadata": {},
   "outputs": [],
   "source": [
    "reactions.loc['SAM Hydrolase::ADENOSYLMETHIONINE-HYDROLASE-RXN',deltag0] = np.array([-8.11])[0]\n",
    "reactions.loc['MTA nucleosidase::METHYLTHIOADENOSINE-NUCLEOSIDASE-RXN',deltag0] = np.array([-8.11])[0]\n",
    "reactions.loc['MTNA::5.3.1.23-RXN',deltag0] = np.array([-8.11])[0]\n",
    "reactions.loc['MT-Ribulose lyase::MT-Ribulose lyase',deltag0] = np.array([-8.11])[0]\n",
    "reactions.loc['MT-acetate reductase::MT-acetate reductase',deltag0] = np.array([-8.11])[0]\n",
    "reactions.loc['MT-ethanol dehydrogenase::MT-ethanol dehydrogenase',deltag0] = np.array([-8.11])[0]\n",
    "reactions.loc['O-ACETYLHOMOSERINE-THIOL-LYASE::O-ACETYLHOMOSERINE-THIOL-LYASE-RXN',deltag0] = np.array([-8.11])[0]"
   ]
  },
  {
   "cell_type": "markdown",
   "metadata": {},
   "source": [
    "### Ferredoxin-Oxidoreductases for Reverse TCA Cycle"
   ]
  },
  {
   "cell_type": "markdown",
   "metadata": {},
   "source": [
    "**Pyruvate Ferredoxin-Oxidoreductase**\n",
    "(PYRUFLAVREDUCT-RXN)\n",
    "\n",
    "| Reaction | Energy Change |\n",
    "|:---:|---:|\n",
    "| 2 FeDox(ox) + 2e-   => 2 FeDox(red)     | E0 ~ -2(0.400V)| \n",
    "|      H$_2$ => 2H+(aq) + 2 e−\t\t          | E0 = -2(0. 0V) |\n",
    "| |$\\Delta G^{\\circ}$ = =-z$F\\Delta$ E0 = +2(96.485kJ/V)(0.400V) = 77.188 kJ/mol|\n",
    "| PYRUVATE + COA = ACETYL-COA + CO2 + H$_2$ | $\\Delta G^{\\circ}$ = 1.0 kJ/mol |\n",
    "|Sum Total:| |\n",
    "|PYRUVATE + COA + 2.0 FeDox(ox) = ACETYL-COA + CO2 + 2.0 FeDox(red) | $\\Delta G^{\\circ}$ = 78.188 kJ/mol |\n",
    "\n",
    "\n",
    "**2-Oxoglutarate Ferredoxin-Oxidoreductase**\n",
    "(2-OXOGLUTARATE-SYNTHASE-RXN)\n",
    "\n",
    "| Reaction | Energy Change |\n",
    "|:---:|---:|\n",
    "| 2 FeDox(ox) + 2e-   => 2 FeDox(red)     | E0 ~ -2(0.400V)| \n",
    "|      H$_2$ => 2H+(aq) + 2 e−\t\t          | E0 = -2(0. 0V) |\n",
    "| |$\\Delta G^{\\circ}$ = =-z$F\\Delta$ E0 = +2(96.485kJ/V)(0.400V) = 77.188 kJ/mol|\n",
    "| 2-OXOGLUTARATE + COA = SUCCINYL-COA + CO$_2$ + H$_{2}$ |$\\Delta G^{\\circ}$ = 9.5 kJ/mol |\n",
    "| Sum Total:||\n",
    "|2-OXOGLUTARATE + COA + 2.0 FeDox(ox) = SUCCINYL-COA + CO$_2$ + 2.0 FeDox(red) |$\\Delta G^{\\circ}$ = 86.688 kJ/mol |\n"
   ]
  },
  {
   "cell_type": "code",
   "execution_count": 46,
   "metadata": {},
   "outputs": [],
   "source": [
    "reactions.loc['2-OXOGLUTARATE-SYNTHASE-RXN',deltag0] = np.array([86.688])[0]\n",
    "reactions.loc['PYRUFLAVREDUCT-RXN',deltag0] = np.array([78.188])[0]"
   ]
  },
  {
   "cell_type": "markdown",
   "metadata": {},
   "source": [
    "### Equilibrator Computations"
   ]
  },
  {
   "cell_type": "markdown",
   "metadata": {},
   "source": [
    "Equilibrator_api Version 0.3.1"
   ]
  },
  {
   "cell_type": "code",
   "execution_count": 47,
   "metadata": {},
   "outputs": [
    {
     "data": {
      "text/plain": [
       "'0.4.7'"
      ]
     },
     "metadata": {},
     "output_type": "display_data"
    }
   ],
   "source": [
    "import sys\n",
    "from equilibrator_api import ComponentContribution, Q_\n",
    "cc = ComponentContribution()\n",
    "import equilibrator_api\n",
    "display(equilibrator_api.__version__)\n",
    "\n",
    "print_output = False\n",
    "\n",
    "file = mf_dir + 'temp.dg0'\n",
    "free_energies = pd.read_csv(file,sep='\\t',header=None, index_col=0,names=['dg0','dg0_sigma'])\n",
    "for idx in free_energies.index:\n",
    "    if idx in reactions.index:\n",
    "        reactions.loc[idx,deltag0] = free_energies.loc[idx,'dg0']\n",
    "\n",
    "\n",
    "eq_api = cc\n",
    "cc.p_h = Q_(7.0)\n",
    "cc.ionic_strength = Q_(\"0.15 mM\") \n",
    "for idx in reactions.index:\n",
    "    boltzmann_rxn_str = reactions.loc[idx,'Full Rxn']\n",
    "    if print_output == True: print('Reaction ', idx)\n",
    "    full_rxn_str_no_cmprt = re.sub(':\\S+','', boltzmann_rxn_str)\n",
    "    if print_output == True:print(full_rxn_str_no_cmprt)\n",
    "    \n",
    "    try:\n",
    "        if (np.issubdtype(reactions.loc[idx,deltag0].dtype, np.number)):\n",
    "            if print_output == True:print('Skipping...\\n')\n",
    "            continue\n",
    "    except:\n",
    "        if print_output == True:print('Calculating...')        \n",
    "    \n",
    "    full_rxn_str_no_cmprt = utils.substitute_common_metabolite_names(full_rxn_str_no_cmprt)\n",
    "    try:\n",
    "        rxn = cc.search_reaction(full_rxn_str_no_cmprt)\n",
    "    except ValueError:\n",
    "        raise\n",
    "    \n",
    "    \n",
    "    if not rxn.is_balanced():\n",
    "        if print_output == True:print('Reaction %s is not balanced:\\n %s\\n%s\\n' % (idx, full_rxn_str_no_cmprt, rxn), flush=True)\n",
    "        break\n",
    "    \n",
    "    for item in rxn.items(protons=False):\n",
    "        if print_output == True:print(item[0].get_common_name(), item[1])\n",
    "        if print_output == True:print(item[0].get_accession())\n",
    "    output = eq_api.dg_prime(rxn)\n",
    "    dG0_prime = output.value.m_as(\"kJ/mol\")\n",
    "    dG0_uncertainty = output.error.m_as(\"kJ/mol\")\n",
    "    if print_output == True: print(output,'\\n')\n",
    "    \n",
    "    reactions.loc[idx,deltag0] = float(dG0_prime)\n",
    "    reactions.loc[idx,deltag0_sigma] = float(dG0_uncertainty)     \n",
    "    \n",
    "    \n",
    "    reactions.loc[idx,deltag0] = float(dG0_prime)\n",
    "    reactions.loc[idx,deltag0_sigma] = float(dG0_uncertainty)\n",
    "\n",
    "   "
   ]
  },
  {
   "cell_type": "markdown",
   "metadata": {},
   "source": [
    "## Set Fixed Concentrations/Boundary Conditions"
   ]
  },
  {
   "cell_type": "code",
   "execution_count": 48,
   "metadata": {},
   "outputs": [],
   "source": [
    "conc = 'Conc'\n",
    "variable = 'Variable'\n",
    "metabolites = pd.DataFrame(index = S_active.columns, columns=[conc,variable])\n",
    "metabolites[conc] = 0.001\n",
    "metabolites[variable] = True\n",
    "metab_list1 = metabolites.index"
   ]
  },
  {
   "cell_type": "code",
   "execution_count": 49,
   "metadata": {},
   "outputs": [],
   "source": [
    "# Set the fixed metabolites:\n",
    "\n",
    "if \"ADENOSINE-3',5'-BISPHOSPHATE:CYTOPLASM\" in metabolites.index:\n",
    "    metabolites.loc[\"ADENOSINE-3',5'-BISPHOSPHATE:CYTOPLASM\",conc] = 1.0e-03\n",
    "    metabolites.loc[\"ADENOSINE-3',5'-BISPHOSPHATE:CYTOPLASM\",variable] = False \n",
    "\n",
    "metabolites.loc['ATP:CYTOPLASM',conc] = 9.600000e-02\n",
    "metabolites.loc['ATP:CYTOPLASM',variable] = False\n",
    "metabolites.loc['ADP:CYTOPLASM',conc] = 5.600000e-06\n",
    "metabolites.loc['ADP:CYTOPLASM',variable] = False\n",
    "\n",
    "if 'ORTHOPHOSPHATE:CYTOPLASM' in metabolites.index:\n",
    "    metabolites.loc['ORTHOPHOSPHATE:CYTOPLASM',conc] = 2.000000e-02\n",
    "    metabolites.loc['ORTHOPHOSPHATE:CYTOPLASM',variable] = False\n",
    "if 'PHOSPHATE:CYTOPLASM' in metabolites.index:\n",
    "    metabolites.loc['PHOSPHATE:CYTOPLASM',conc] = 2.000000e-02\n",
    "    metabolites.loc['PHOSPHATE:CYTOPLASM',variable] = False\n",
    "if 'AMP:CYTOPLASM' in metabolites.index:\n",
    "    metabolites.loc['AMP:CYTOPLASM',conc] = 2.81e-07\n",
    "    metabolites.loc['AMP:CYTOPLASM',variable] = False \n",
    "if 'DIPHOSPHATE:CYTOPLASM' in metabolites.index:\n",
    "    metabolites.loc['DIPHOSPHATE:CYTOPLASM',conc] = 1.0e-04\n",
    "    metabolites.loc['DIPHOSPHATE:CYTOPLASM',variable] = False \n",
    "\n",
    "\n",
    "\n",
    "# High NAD/NADH\n",
    "metabolites.loc['NADH:CYTOPLASM',conc] = 8.300000e-04\n",
    "metabolites.loc['NADH:CYTOPLASM',variable] = False\n",
    "metabolites.loc['NAD+:CYTOPLASM',conc] = 2.600000e-03\n",
    "metabolites.loc['NAD+:CYTOPLASM',variable] = False\n",
    "\n",
    "\n",
    "# Low ratio of NADP/NADPH\n",
    "metabolites.loc['NADPH:CYTOPLASM',conc] = 1.200000e-04\n",
    "metabolites.loc['NADPH:CYTOPLASM',variable] = False\n",
    "metabolites.loc['NADP+:CYTOPLASM',conc] = 2.100000e-06\n",
    "metabolites.loc['NADP+:CYTOPLASM',variable] = False\n",
    "\n",
    "metabolites.loc['COA:CYTOPLASM',conc] = 1.400000e-06\n",
    "metabolites.loc['COA:CYTOPLASM',variable] = False\n",
    "\n",
    "metabolites.loc['CO2:CYTOPLASM',conc] = 1.000e-04\n",
    "metabolites.loc['CO2:CYTOPLASM',variable] = False \n",
    "\n",
    "metabolites.loc['NH3:CYTOPLASM',conc] = 1.000e-04\n",
    "metabolites.loc['NH3:CYTOPLASM',variable] = False \n",
    "\n",
    "metabolites.loc['H2O:CYTOPLASM',conc] = 55.5\n",
    "metabolites.loc['H2O:CYTOPLASM',variable] = False \n",
    "    \n",
    "if 'A_REDUCED_THIOREDOXIN:CYTOPLASM' in metabolites.index:\n",
    "    metabolites.loc['A_REDUCED_THIOREDOXIN:CYTOPLASM',conc] = 2.0e-03\n",
    "    metabolites.loc['A_REDUCED_THIOREDOXIN:CYTOPLASM',variable] = False\n",
    "if 'AN_OXIDIZED_THIOREDOXIN:CYTOPLASM' in metabolites.index:\n",
    "    metabolites.loc['AN_OXIDIZED_THIOREDOXIN:CYTOPLASM',conc] = 2.0e-03\n",
    "    metabolites.loc['AN_OXIDIZED_THIOREDOXIN:CYTOPLASM',variable] = False\n",
    "if 'A_REDUCED_FERREDOXIN:CYTOPLASM' in metabolites.index:\n",
    "    metabolites.loc['A_REDUCED_FERREDOXIN:CYTOPLASM',conc] = 2.0e-03\n",
    "    metabolites.loc['A_REDUCED_FERREDOXIN:CYTOPLASM',variable] = False\n",
    "if 'AN_OXIDIZED_FERREDOXIN:CYTOPLASM' in metabolites.index:\n",
    "    metabolites.loc['AN_OXIDIZED_FERREDOXIN:CYTOPLASM',conc] = 2.0e-03\n",
    "    metabolites.loc['AN_OXIDIZED_FERREDOXIN:CYTOPLASM',variable] = False\n",
    "\n",
    "''' \n",
    "Ethanol concentration from:\n",
    "North JA, Miller AR, Wildenthal JA, Young SJ, Tabita FR. \n",
    "Microbial pathway for anaerobic 5'-methylthioadenosine metabolism coupled to ethylene formation. \n",
    "Proc Natl Acad Sci U S A. 2017 Nov 28;114(48)\n",
    "'''\n",
    "\n",
    "if 'ETHANOL:CYTOPLASM' in metabolites.index:\n",
    "    metabolites.loc['ETHANOL:CYTOPLASM',conc] = 85.0e-03 #Lit value\n",
    "    metabolites.loc['ETHANOL:CYTOPLASM',variable] = False \n",
    "\n",
    "\n",
    "if 'ETHYLENE:CYTOPLASM' in metabolites.index:\n",
    "    metabolites.loc['ETHYLENE:CYTOPLASM',conc] = 1.0e-07\n",
    "    metabolites.loc['ETHYLENE:CYTOPLASM',variable] = False\n",
    "    \n",
    "\n",
    "if 'SULFATE:CYTOPLASM' in metabolites.index:\n",
    "    metabolites.loc['SULFATE:CYTOPLASM',conc] = 1.0e-02\n",
    "    metabolites.loc['SULFATE:CYTOPLASM',variable] = False\n",
    "    \n",
    "\n",
    "if 'TETRAHYDROFOLATE:CYTOPLASM' in metabolites.index:\n",
    "    metabolites.loc['TETRAHYDROFOLATE:CYTOPLASM',conc] = 2.0e-03\n",
    "    metabolites.loc['TETRAHYDROFOLATE:CYTOPLASM',variable] = False\n",
    "\n",
    "if 'N10-FORMYLTETRAHYDROFOLATE:CYTOPLASM' in metabolites.index:\n",
    "    metabolites.loc['N10-FORMYLTETRAHYDROFOLATE:CYTOPLASM',conc] = 2.0e-03\n",
    "    metabolites.loc['N10-FORMYLTETRAHYDROFOLATE:CYTOPLASM',variable] = False\n",
    "\n",
    "if 'A 7,8-DIHYDROFOLATE:CYTOPLASM' in metabolites.index:\n",
    "    metabolites.loc['A 7,8-DIHYDROFOLATE:CYTOPLASM',conc] = 2.0e-03\n",
    "    metabolites.loc['A 7,8-DIHYDROFOLATE:CYTOPLASM',variable] = False\n",
    "    \n",
    "metabolites.loc['5-METHYLTETRAHYDROFOLATE:CYTOPLASM',conc] = 2.0e-03\n",
    "metabolites.loc['5-METHYLTETRAHYDROFOLATE:CYTOPLASM',variable] = False\n",
    "metabolites.loc['5,10-METHYLENETETRAHYDROFOLATE:CYTOPLASM',conc] = 2.0e-03\n",
    "metabolites.loc['5,10-METHYLENETETRAHYDROFOLATE:CYTOPLASM',variable] = False\n",
    "\n",
    "\n",
    "# autoinducer from SAM cycle = (4S)-4,5-DIHYDROXYPENTAN-2,3-DIONE:CYTOPLASM\n",
    "if '(4S)-4,5-DIHYDROXYPENTAN-2,3-DIONE:CYTOPLASM' in metabolites.index:\n",
    "    metabolites.loc['(4S)-4,5-DIHYDROXYPENTAN-2,3-DIONE:CYTOPLASM',conc] = 2.0e-09\n",
    "    metabolites.loc['(4S)-4,5-DIHYDROXYPENTAN-2,3-DIONE:CYTOPLASM',variable] = False\n",
    "\n",
    "\n",
    "if 'ADENINE:CYTOPLASM' in metabolites.index:\n",
    "    metabolites.loc['ADENINE:CYTOPLASM',conc] = 2.0e-06\n",
    "    metabolites.loc['ADENINE:CYTOPLASM',variable] = False\n",
    "if 'ADENOSINE:CYTOPLASM' in metabolites.index:\n",
    "    metabolites.loc['ADENOSINE:CYTOPLASM',conc] = 2.0e-14\n",
    "    metabolites.loc['ADENOSINE:CYTOPLASM',variable] = False\n",
    "\n",
    "\n",
    "if 'FD_OX:CYTOPLASM' in metabolites.index:\n",
    "    metabolites.loc['FD_OX:CYTOPLASM',conc] = 2.0e-06\n",
    "    metabolites.loc['FD_OX:CYTOPLASM',variable] = False\n",
    "if 'FD_RED:CYTOPLASM' in metabolites.index:\n",
    "    metabolites.loc['FD_RED:CYTOPLASM',conc] = 2.0e-03\n",
    "    metabolites.loc['FD_RED:CYTOPLASM',variable] = False\n",
    "if 'H2:CYTOPLASM' in metabolites.index:\n",
    "    metabolites.loc['H2:CYTOPLASM',conc] = 2.0e-09\n",
    "    metabolites.loc['H2:CYTOPLASM',variable] = False\n",
    "\n",
    "\n",
    "\n",
    "metabolites.sort_values(by=variable, axis=0,ascending=False, inplace=True,)\n"
   ]
  },
  {
   "cell_type": "markdown",
   "metadata": {},
   "source": [
    "### Protein Synthesis Reaction\n",
    "\n",
    "Protein synthesis involves loading the amino acid onto tRNA, the polymerization step where ADP is released\n",
    "The overall reaction for amino acid polymerization into a polypeptide is,\n",
    "\n",
    "\\begin{array}{lrcll}\n",
    "\\text{tRNA charging:} & \\text{AA + tRNA + ATP} & \\rightarrow & \\text{AMP + AA-tRNA +  PP}_{i} & \\\\\n",
    "\\text{tRNA loading:} &\\text{AA-tRNA + GTP + polyAA}_{n}\\text{-tRNA} & \\rightarrow & \\text{AA-tRNA-polyAA}_{n}\\text{-tRNA + GDP + P}_{i} & \\\\\n",
    "\\text{peptide bond formation:} & \\text{AA-tRNA-polyAA}_{n}\\text{-tRNA}  & \\rightarrow & \\text{polyAA}_{n+1}\\text{-tRNA + tRNA} & \\\\\n",
    "\\hline\n",
    "\\text{Overall:} & \\text{AA + ATP + GTP} & \\rightarrow & \\text{polyAA}_{n}\\text{-tRNA + AMP + GDP + PP}_{i} + \\text{P}_{i} & \\\\\n",
    "\\end{array}\n",
    "\n",
    "In this simple scheme, neither the initiation or termination of the translational complex are modeled. \n",
    "- Free energy of peptide bond hydrolysis from a protein:\n",
    "\n",
    "| Reaction | Energy Change |\n",
    "|:---:|---:|\n",
    "|  protein-aa $\\rightarrow$ protein + aa   |   $\\Delta G_{rxn}$ ~ $-0.5$ kcal/mol or ~ $-1.24$ kJ/mol. |\n",
    "    \n",
    "From (Jencks, W.P. (1970) in Handbook of Biochemistry (Sober, H.A., ed.), 2nd edn., pp. J181-J186, Chemical Rubber, Cleveland, OH; Watson, J.D. (1976) Molecular Biology of the Gene, 3rd edn., Benjamin, Menlo Park, CA; Are there more recent values?\n",
    "**See: Martin Biopolymers, Vol. 45, 351–353 (1998)**)\n",
    "\n",
    "- Free energy of ATP = AMP + diphosphate ~ $-37.1$ kJ/mol.\n",
    "\n",
    "- Free energy of GTP = GDP + phosphate ~ $-24.4$ kJ/mol.\n",
    "\n",
    "- Free energy of amino acid polymerization using ATP ~ $-37.1 -24.4 - (-1.2) = -60.3$ kJ/mol.\n",
    "\n",
    "Then to incorporate the 20 amino acids evenly into a 20-mer peptide would be $20\\cdot(-60.3) = -1206$ kJ/mol."
   ]
  },
  {
   "cell_type": "code",
   "execution_count": 50,
   "metadata": {},
   "outputs": [
    {
     "name": "stderr",
     "output_type": "stream",
     "text": [
      "/var/folders/45/hnmrvf5d6wdf1h8m7d4cn5s4hp2pl3/T/ipykernel_26744/3014134948.py:27: PerformanceWarning: DataFrame is highly fragmented.  This is usually the result of calling `frame.insert` many times, which has poor performance.  Consider joining all columns at once using pd.concat(axis=1) instead. To get a de-fragmented frame, use `newframe = frame.copy()`\n",
      "  S_active.loc[:,'PROTEIN'] = 0;\n"
     ]
    }
   ],
   "source": [
    "\n",
    "\n",
    "aa_list = ['L-ALANINE:CYTOPLASM','L-ASPARAGINE:CYTOPLASM','L-ASPARTATE:CYTOPLASM','L-ARGININE:CYTOPLASM',\\\n",
    "           'L-CYSTEINE:CYTOPLASM','GLYCINE:CYTOPLASM', \\\n",
    "           'L-GLUTAMATE:CYTOPLASM','L-GLUTAMINE:CYTOPLASM', 'L-HISTIDINE:CYTOPLASM', \\\n",
    "           'L-ISOLEUCINE:CYTOPLASM','L-LEUCINE:CYTOPLASM', \\\n",
    "           'L-LYSINE:CYTOPLASM', 'L-METHIONINE:CYTOPLASM',  \\\n",
    "           'L-PHENYLALANINE:CYTOPLASM','L-PROLINE:CYTOPLASM','L-SERINE:CYTOPLASM',\\\n",
    "           'L-THREONINE:CYTOPLASM','L-TRYPTOPHAN:CYTOPLASM', \\\n",
    "           'L-TYROSINE:CYTOPLASM','L-VALINE:CYTOPLASM']\n",
    "protein_aa_list = []\n",
    "for aa in aa_list: \n",
    "    if aa in metabolites.index: protein_aa_list.append(aa) \n",
    "\n",
    "\n",
    "\n",
    "reactions.loc['protein_syn',left] = 'Amino Acids'\n",
    "reactions.loc['protein_syn',right] = 'PROTEIN'\n",
    "reactions.loc['protein_syn',deltag0] = np.array([-60.3])[0]\n",
    "reactions.loc['protein_syn','ENZYME_LEVEL'] = 1.0 \n",
    "reactions.loc['protein_syn','Full Rxn'] = 'Amino Acids = Protein' \n",
    "reactions.loc['protein_syn','LEFT_COMPARTMENT'] = 'CYTOPLASM'\n",
    "reactions.loc['protein_syn','RIGHT_COMPARTMENT'] = 'VARIOUS'\n",
    "reactions.loc['protein_syn','Full Rxn'] = 'Amino Acids = Protein' \n",
    "reactions.loc['protein_syn','Same Compartment?'] = 'False' \n",
    "\n",
    "num_aa = len(protein_aa_list)\n",
    "aa_stoichiometry = -1/(num_aa)\n",
    "S_active.loc[:,'PROTEIN'] = 0;\n",
    "S_active.loc['protein_syn',:] = 0;\n",
    "S_active.loc['protein_syn','PROTEIN'] = 1;\n",
    "for aa in protein_aa_list:\n",
    "    S_active.loc['protein_syn',aa] = aa_stoichiometry;\n",
    "\n",
    "metabolites.loc['PROTEIN',conc] = 1.00000e-09\n",
    "metabolites.loc['PROTEIN',variable] = False"
   ]
  },
  {
   "cell_type": "markdown",
   "metadata": {},
   "source": [
    "### RNA Synthesis"
   ]
  },
  {
   "cell_type": "code",
   "execution_count": 51,
   "metadata": {},
   "outputs": [
    {
     "name": "stderr",
     "output_type": "stream",
     "text": [
      "/var/folders/45/hnmrvf5d6wdf1h8m7d4cn5s4hp2pl3/T/ipykernel_26744/406738606.py:15: PerformanceWarning: DataFrame is highly fragmented.  This is usually the result of calling `frame.insert` many times, which has poor performance.  Consider joining all columns at once using pd.concat(axis=1) instead. To get a de-fragmented frame, use `newframe = frame.copy()`\n",
      "  S_active.loc[:,'RNA'] = 0;\n",
      "/var/folders/45/hnmrvf5d6wdf1h8m7d4cn5s4hp2pl3/T/ipykernel_26744/406738606.py:19: PerformanceWarning: DataFrame is highly fragmented.  This is usually the result of calling `frame.insert` many times, which has poor performance.  Consider joining all columns at once using pd.concat(axis=1) instead. To get a de-fragmented frame, use `newframe = frame.copy()`\n",
      "  S_active.loc['rna_syn',ntp] = ntp_stoichiometry;\n"
     ]
    }
   ],
   "source": [
    "\n",
    "\n",
    "\n",
    "ntp_list = ['ATP:CYTOPLASM','GTP:CYTOPLASM','CTP:CYTOPLASM','TTP:CYTOPLASM']\n",
    "\n",
    "\n",
    "reactions.loc['rna_syn',left] = 'NTPs'\n",
    "reactions.loc['rna_syn',right] = 'RNA'\n",
    "reactions.loc['rna_syn',deltag0] = np.array([-112.02])[0] *0.5 # 1/2 since reaction for single nucleotide instead of a base pair\n",
    "reactions.loc['rna_syn','ENZYME_LEVEL'] = 1.0 \n",
    "reactions.loc['rna_syn','Full Rxn'] = 'NTPs = RNA' \n",
    "reactions.loc['rna_syn','LEFT_COMPARTMENT'] = 'CYTOSOL'\n",
    "reactions.loc['rna_syn','RIGHT_COMPARTMENT'] = 'VARIOUS'\n",
    "reactions.loc['rna_syn','Same Compartment?'] = 'False' \n",
    "\n",
    "num_ntp = len(ntp_list)\n",
    "ntp_stoichiometry = -1/num_ntp # The factor of two is due to 1 dNTP for each strand.\n",
    "S_active.loc[:,'RNA'] = 0;\n",
    "S_active.loc['rna_syn',:] = 0;\n",
    "S_active.loc['rna_syn','RNA'] = 1;\n",
    "for ntp in ntp_list:\n",
    "    S_active.loc['rna_syn',ntp] = ntp_stoichiometry;\n",
    "\n",
    "metabolites.loc['RNA',conc] = 1.00000e-08\n",
    "metabolites.loc['RNA',variable] = False"
   ]
  },
  {
   "cell_type": "markdown",
   "metadata": {},
   "source": [
    "### DNA Synthesis"
   ]
  },
  {
   "cell_type": "code",
   "execution_count": 52,
   "metadata": {},
   "outputs": [
    {
     "name": "stderr",
     "output_type": "stream",
     "text": [
      "/var/folders/45/hnmrvf5d6wdf1h8m7d4cn5s4hp2pl3/T/ipykernel_26744/632721797.py:16: PerformanceWarning: DataFrame is highly fragmented.  This is usually the result of calling `frame.insert` many times, which has poor performance.  Consider joining all columns at once using pd.concat(axis=1) instead. To get a de-fragmented frame, use `newframe = frame.copy()`\n",
      "  S_active.loc[:,'DNA'] = 0;\n"
     ]
    }
   ],
   "source": [
    "\n",
    "\n",
    "\n",
    "\n",
    "\n",
    "dntp_list = ['DATP:CYTOPLASM','DGTP:CYTOPLASM','DCTP:CYTOPLASM','DTTP:CYTOPLASM']\n",
    "\n",
    "\n",
    "\n",
    "reactions.loc['dna_syn',left] = 'dNTPs'\n",
    "reactions.loc['dna_syn',right] = 'DNA'\n",
    "reactions.loc['dna_syn',deltag0] = np.array([-112.02])[0]    \n",
    "reactions.loc['dna_syn','ENZYME_LEVEL'] = 1.0 \n",
    "reactions.loc['dna_syn','Full Rxn'] = 'dNTPs = DNA' \n",
    "reactions.loc['dna_syn','LEFT_COMPARTMENT'] = 'CYTOPLASM'\n",
    "reactions.loc['dna_syn','RIGHT_COMPARTMENT'] = 'VARIOUS'\n",
    "reactions.loc['dna_syn','Same Compartment?'] = 'False' \n",
    "\n",
    "num_dntp = len(dntp_list)\n",
    "dntp_stoichiometry = -2/num_dntp\n",
    "S_active.loc[:,'DNA'] = 0;\n",
    "S_active.loc['dna_syn',:] = 0;\n",
    "S_active.loc['dna_syn','DNA'] = 1;\n",
    "for dntp in dntp_list:\n",
    "    S_active.loc['dna_syn',dntp] = dntp_stoichiometry;\n",
    "\n",
    "metabolites.loc['DNA',conc] = 1.00000e-09\n",
    "metabolites.loc['DNA',variable] = False"
   ]
  },
  {
   "cell_type": "markdown",
   "metadata": {},
   "source": [
    "## Prepare model for optimization"
   ]
  },
  {
   "cell_type": "markdown",
   "metadata": {},
   "source": [
    "- Adjust S Matrix to use only reactions with activity > 0, if necessary.\n",
    "- Water stoichiometry in the stiochiometric matrix needs to be set to zero since water is held constant.\n",
    "- All concentrations are changed to log counts.\n",
    "- Equilibrium constants are calculated from standard free energies of reaction."
   ]
  },
  {
   "cell_type": "code",
   "execution_count": 53,
   "metadata": {},
   "outputs": [],
   "source": [
    "\n",
    "\n",
    "## Stoichiometric Matrix\n",
    "active_reactions = reactions[reactions[enzyme_level] > 0.0].copy()\n",
    "Sactive_index = S_active.index\n",
    "active_reactions.reindex(index = Sactive_index, copy = True)\n",
    "S_active = S_active.reindex(columns = metabolites.index, copy = False)\n",
    "S_active['H2O:CYTOPLASM'] = 0\n",
    "\n",
    "\n",
    "## Metabolite upper bounds and fixed concentrations\n",
    "metabolites['Conc'] = np.log(Concentration2Count*metabolites['Conc'])\n",
    "metabolites = metabolites.rename(columns = {'Conc':'Log_count'})\n",
    "\n",
    "\n",
    "\n",
    "## Equilibrium Constants\n",
    "Keq = np.exp(-active_reactions[deltag0].astype('float')/RT)\n",
    "Keq = Keq.values\n",
    "K_df = pd.DataFrame(Keq,index = S_active.index, columns = ['Equilibrium Constant'])\n",
    "\n",
    "\n",
    "\n",
    "\n"
   ]
  },
  {
   "cell_type": "code",
   "execution_count": 55,
   "metadata": {},
   "outputs": [],
   "source": [
    "### Save model files\n",
    "S_active.to_csv('Stoichiometric_matrix.csv')\n",
    "K_df.to_csv('Equilibrium_constants.csv')\n",
    "metabolites.to_csv('Metabolites.csv')"
   ]
  },
  {
   "cell_type": "code",
   "execution_count": null,
   "metadata": {},
   "outputs": [],
   "source": []
  }
 ],
 "metadata": {
  "_draft": {
   "nbviewer_url": "https://gist.github.com/372ccd385c6146df3a2c453d1d8760f7"
  },
  "gist": {
   "data": {
    "description": "Rpal_proteins.ipynb",
    "public": true
   },
   "id": "372ccd385c6146df3a2c453d1d8760f7"
  },
  "hide_input": false,
  "kernelspec": {
   "display_name": "Python 3.9.13 ('PCO_methods')",
   "language": "python",
   "name": "python3"
  },
  "language_info": {
   "codemirror_mode": {
    "name": "ipython",
    "version": 3
   },
   "file_extension": ".py",
   "mimetype": "text/x-python",
   "name": "python",
   "nbconvert_exporter": "python",
   "pygments_lexer": "ipython3",
   "version": "3.9.13"
  },
  "latex_envs": {
   "LaTeX_envs_menu_present": true,
   "autoclose": false,
   "autocomplete": false,
   "bibliofile": "whitepaper.bib",
   "cite_by": "apalike",
   "current_citInitial": 1,
   "eqLabelWithNumbers": true,
   "eqNumInitial": 1,
   "hotkeys": {
    "equation": "Ctrl-E",
    "itemize": "Ctrl-I"
   },
   "labels_anchors": false,
   "latex_user_defs": false,
   "report_style_numbering": false,
   "user_envs_cfg": true
  },
  "toc": {
   "base_numbering": 1,
   "nav_menu": {
    "height": "12px",
    "width": "252px"
   },
   "number_sections": true,
   "sideBar": true,
   "skip_h1_title": false,
   "title_cell": "Table of Contents",
   "title_sidebar": "Contents",
   "toc_cell": true,
   "toc_position": {
    "height": "533px",
    "left": "2px",
    "right": "20px",
    "top": "106px",
    "width": "283px"
   },
   "toc_section_display": true,
   "toc_window_display": true
  },
  "vscode": {
   "interpreter": {
    "hash": "21c51411fb1b8425feeedf80c49cedf40f57de25f22cf5fda5bbfb0b6e54f0f6"
   }
  }
 },
 "nbformat": 4,
 "nbformat_minor": 4
}
